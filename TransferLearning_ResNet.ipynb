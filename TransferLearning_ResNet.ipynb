{
 "cells": [
  {
   "cell_type": "code",
   "execution_count": null,
   "id": "66f57649",
   "metadata": {},
   "outputs": [],
   "source": [
    "from IPython.display import Image \n",
    "from tensorflow.keras.applications.resnet50 import ResNet50 \n",
    "from tensorflow.keras.applications.resnet50 import preprocess_input, decode_predictions\n",
    "from tensorflow.keras.preprocessing import image\n",
    "import numpy as np"
   ]
  },
  {
   "cell_type": "code",
   "execution_count": null,
   "id": "2f32b904",
   "metadata": {},
   "outputs": [],
   "source": [
    "image_path='fighterjet.jpg'\n",
    "sample_img=image.load_img(image_path,target_size=(224,224))\n",
    "display(sample_img)\n",
    "x=image.img_to_array(sample_img)\n",
    "x=np.expand_dims(x,axis=0)\n",
    "x=preprocess_input(x)\n",
    "#Image(filename=image_path)"
   ]
  },
  {
   "cell_type": "code",
   "execution_count": null,
   "id": "faa41261",
   "metadata": {},
   "outputs": [],
   "source": [
    "model = ResNet50(weights='imagenet')\n"
   ]
  },
  {
   "cell_type": "code",
   "execution_count": null,
   "id": "c813c8fa",
   "metadata": {},
   "outputs": [],
   "source": [
    "preds = model.predict(x)\n",
    "print(\"Predictions: \",decode_predictions(preds,top=3)[0])"
   ]
  },
  {
   "cell_type": "code",
   "execution_count": null,
   "id": "16afc533",
   "metadata": {},
   "outputs": [],
   "source": [
    "def classify(img_path):\n",
    "    ip_img=image.load_img(img_path,target_size=(224,224))\n",
    "    display(ip_img)\n",
    "    x=image.img_to_array(ip_img)\n",
    "    x=np.expand_dims(x,axis=0)\n",
    "    x=preprocess_input(x)\n",
    "    preds=model.predict(x)\n",
    "    print(\"Predictions: \", decode_predictions(preds,top=3)[0])\n",
    "    "
   ]
  },
  {
   "cell_type": "code",
   "execution_count": null,
   "id": "b6145923",
   "metadata": {},
   "outputs": [],
   "source": [
    "path_add=['bridge.jpg','breakfast.jpg','bunny.jpg','castle.jpg','fighterjet.jpg','firetruck.jpg']"
   ]
  },
  {
   "cell_type": "code",
   "execution_count": null,
   "id": "25c894d0",
   "metadata": {},
   "outputs": [],
   "source": [
    "for img_path in path_add:\n",
    "    classify(img_path)\n"
   ]
  }
 ],
 "metadata": {
  "kernelspec": {
   "display_name": "Python 3 (ipykernel)",
   "language": "python",
   "name": "python3"
  },
  "language_info": {
   "codemirror_mode": {
    "name": "ipython",
    "version": 3
   },
   "file_extension": ".py",
   "mimetype": "text/x-python",
   "name": "python",
   "nbconvert_exporter": "python",
   "pygments_lexer": "ipython3",
   "version": "3.10.9"
  }
 },
 "nbformat": 4,
 "nbformat_minor": 5
}
